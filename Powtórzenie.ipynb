{
 "cells": [
  {
   "cell_type": "markdown",
   "id": "706c0434",
   "metadata": {},
   "source": [
    "## Ściągnięcie danych oraz ich przegląd"
   ]
  },
  {
   "cell_type": "markdown",
   "id": "96ce4406",
   "metadata": {},
   "source": [
    "##### Ściągnięcie wszystkich niezbędbych bibliotek"
   ]
  },
  {
   "cell_type": "code",
   "execution_count": 13,
   "id": "21fc0f65",
   "metadata": {},
   "outputs": [],
   "source": [
    "import sys\n",
    "\n",
    "# !conda install --yes --prefix {sys.prefix} -c conda-forge pandas-profiling\n",
    "# !conda install --yes --prefix {sys.prefix} -c conda-forge sweetviz\n",
    "# !conda install --yes --prefix {sys.prefix} matplotlib\n",
    "\n",
    "# !conda install --yes --prefix {sys.prefix} scikit-learn\n",
    "\n",
    "# !jupyter nbextension enable --py widgetsnbextension\n"
   ]
  },
  {
   "cell_type": "code",
   "execution_count": 14,
   "id": "d07afd87",
   "metadata": {},
   "outputs": [
    {
     "name": "stdout",
     "output_type": "stream",
     "text": [
      "Python 3.8.12\r\n"
     ]
    }
   ],
   "source": [
    "!python --version"
   ]
  },
  {
   "cell_type": "code",
   "execution_count": 1,
   "id": "4c31f3ea",
   "metadata": {},
   "outputs": [],
   "source": [
    "import pandas as pd\n",
    "import seaborn as sns\n",
    "import matplotlib.pyplot as plt\n",
    "import numpy as np\n",
    "from sklearn import metrics\n",
    "from sklearn.linear_model import LinearRegression, LogisticRegression\n",
    "from sklearn.model_selection import train_test_split\n",
    "import os\n",
    "\n",
    "from utils import decrypt_pandas, bcolors\n"
   ]
  },
  {
   "cell_type": "markdown",
   "id": "3108eb32",
   "metadata": {},
   "source": [
    "##### Sciągnięcie danych"
   ]
  },
  {
   "cell_type": "code",
   "execution_count": 2,
   "id": "3ead1c30",
   "metadata": {
    "code_folding": []
   },
   "outputs": [],
   "source": [
    "#proszę zmienić wartość `password` na wartość podaną podczas zajęć\n",
    "df = decrypt_pandas(\"data_houses.csv.aes\", password=None)"
   ]
  },
  {
   "cell_type": "code",
   "execution_count": 53,
   "id": "9cbd473f",
   "metadata": {},
   "outputs": [
    {
     "data": {
      "text/plain": [
       "0.42590107805487437"
      ]
     },
     "execution_count": 53,
     "metadata": {},
     "output_type": "execute_result"
    }
   ],
   "source": [
    "df['expensive_price'] = np.where(df['price'] >= 500000, 1, 0)\n",
    "np.mean(df['expensive_price'])"
   ]
  },
  {
   "cell_type": "markdown",
   "id": "7f663b91",
   "metadata": {},
   "source": [
    "#### Proszę podzielić dane na zbiór treningowy i testowy (80% / 20%, random_state=42, shuffle=True)"
   ]
  },
  {
   "cell_type": "code",
   "execution_count": 55,
   "id": "ba67a9e4",
   "metadata": {},
   "outputs": [],
   "source": []
  },
  {
   "cell_type": "markdown",
   "id": "5f6d1dd8",
   "metadata": {},
   "source": [
    "#### Wypisać średnią, medianę i modę zmiennej price (na zbiorze treningowym)"
   ]
  },
  {
   "cell_type": "code",
   "execution_count": null,
   "id": "9c8052df",
   "metadata": {
    "code_folding": []
   },
   "outputs": [],
   "source": []
  },
  {
   "cell_type": "markdown",
   "id": "71dff72f",
   "metadata": {},
   "source": [
    "#### Proszę wyrysować histogram zmiennej price (na zbiorze treningowym)"
   ]
  },
  {
   "cell_type": "code",
   "execution_count": null,
   "id": "6950852a",
   "metadata": {},
   "outputs": [],
   "source": []
  },
  {
   "cell_type": "markdown",
   "id": "83f6ee50",
   "metadata": {},
   "source": [
    "#### Proszę wyrysować wykres punktowy zależności zmiennej price i sqft_living (na zbiorze testowym)"
   ]
  },
  {
   "cell_type": "code",
   "execution_count": null,
   "id": "71048005",
   "metadata": {},
   "outputs": [],
   "source": []
  },
  {
   "cell_type": "markdown",
   "id": "6aad57f1",
   "metadata": {},
   "source": [
    "#### Proszę wyrysować macierz korelacji dla zmiennych w zbiorze treningowym"
   ]
  },
  {
   "cell_type": "code",
   "execution_count": null,
   "id": "3491e3a4",
   "metadata": {},
   "outputs": [],
   "source": []
  },
  {
   "cell_type": "markdown",
   "id": "0bb8e174",
   "metadata": {},
   "source": [
    "### Wytrenować model liniowy\n",
    "#### Zmianna objaśniana to price a zmienne objaśniające: sqft_living, bedrooms, bathrooms, grade"
   ]
  },
  {
   "cell_type": "code",
   "execution_count": null,
   "id": "94814dd1",
   "metadata": {},
   "outputs": [],
   "source": []
  },
  {
   "cell_type": "markdown",
   "id": "5d8131af",
   "metadata": {},
   "source": [
    "#### Proszę wyliczyć MSE dla zbioru treningowego i testowego"
   ]
  },
  {
   "cell_type": "code",
   "execution_count": null,
   "id": "1a26eb50",
   "metadata": {
    "code_folding": []
   },
   "outputs": [],
   "source": []
  },
  {
   "cell_type": "markdown",
   "id": "6b34f599",
   "metadata": {},
   "source": [
    "### Zadanie dodatkowe: \n",
    "#### Napisać własną *klasę* LinearRegression z metodami fit i predict i ręcznym wyliczeniem współczynników\n",
    "#### a) dla jednej zmiennej objaśniającej\n",
    "#### b) dla wielu zmiennych objaśniających"
   ]
  },
  {
   "cell_type": "code",
   "execution_count": null,
   "id": "e4160845",
   "metadata": {},
   "outputs": [],
   "source": []
  },
  {
   "cell_type": "markdown",
   "id": "df64f3d4",
   "metadata": {},
   "source": [
    "###### Wytrenować model regresji logistycznej dla zadania klasyfikacji\n",
    "#### Zmianna objaśniana to expensive_price a zmienne objaśniające: sqft_living, bedrooms, bathrooms, grade\n",
    "##### zadeklarować random_state na 42 i liczbę iteracji na 150"
   ]
  },
  {
   "cell_type": "code",
   "execution_count": null,
   "id": "77d9ff94",
   "metadata": {},
   "outputs": [],
   "source": []
  },
  {
   "cell_type": "markdown",
   "id": "28e453bc",
   "metadata": {},
   "source": [
    "#### Proszę wyliczyć dokładność (accuracy) dla zbioru treningowego i testowego"
   ]
  },
  {
   "cell_type": "code",
   "execution_count": null,
   "id": "d390a261",
   "metadata": {},
   "outputs": [],
   "source": []
  }
 ],
 "metadata": {
  "kernelspec": {
   "display_name": "mlp",
   "language": "python",
   "name": "mlp"
  },
  "language_info": {
   "codemirror_mode": {
    "name": "ipython",
    "version": 3
   },
   "file_extension": ".py",
   "mimetype": "text/x-python",
   "name": "python",
   "nbconvert_exporter": "python",
   "pygments_lexer": "ipython3",
   "version": "3.8.12"
  }
 },
 "nbformat": 4,
 "nbformat_minor": 5
}
